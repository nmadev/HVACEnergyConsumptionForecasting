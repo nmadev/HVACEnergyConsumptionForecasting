{
 "cells": [
  {
   "cell_type": "markdown",
   "metadata": {},
   "source": [
    "# Population Density"
   ]
  },
  {
   "cell_type": "code",
   "execution_count": 1,
   "metadata": {},
   "outputs": [],
   "source": [
    "from scipy.io import netcdf\n",
    "import numpy as np\n",
    "import matplotlib.pyplot as plt\n",
    "import seaborn as sns"
   ]
  },
  {
   "cell_type": "code",
   "execution_count": 4,
   "metadata": {},
   "outputs": [
    {
     "name": "stdout",
     "output_type": "stream",
     "text": [
      "{'longitude': <scipy.io._netcdf.netcdf_variable object at 0x00000249B1647510>, 'latitude': <scipy.io._netcdf.netcdf_variable object at 0x00000249B16760D0>, 'raster': <scipy.io._netcdf.netcdf_variable object at 0x00000249B1675E50>, 'Population Density, v4.11 (2000, 2005, 2010, 2015, 2020): 2.5 arc-minutes': <scipy.io._netcdf.netcdf_variable object at 0x00000249B164D810>}\n"
     ]
    },
    {
     "name": "stderr",
     "output_type": "stream",
     "text": [
      "C:\\Users\\Astro\\AppData\\Local\\Temp\\ipykernel_14000\\2208080896.py:2: DeprecationWarning: Please use `NetCDFFile` from the `scipy.io` namespace, the `scipy.io.netcdf` namespace is deprecated.\n",
      "  pop_nc_file = netcdf.NetCDFFile(pop_file_path)\n"
     ]
    }
   ],
   "source": [
    "pop_file_path = '../Data/Pop_Density/gpw-v4-population-density-rev11_totpop_2pt5_min_nc/gpw_v4_population_density_rev11_2pt5_min.nc'\n",
    "pop_nc_file = netcdf.NetCDFFile(pop_file_path)\n",
    "print(pop_nc_file.variables)\n",
    "pop_d_var = 'Population Density, v4.11 (2000, 2005, 2010, 2015, 2020): 2.5 arc-minutes'"
   ]
  },
  {
   "cell_type": "code",
   "execution_count": 6,
   "metadata": {},
   "outputs": [
    {
     "name": "stdout",
     "output_type": "stream",
     "text": [
      "(8640,)\n",
      "(4320,)\n",
      "<class 'scipy.io._netcdf.netcdf_variable'>\n",
      "(20, 4320, 8640)\n",
      "(4320, 8640)\n"
     ]
    }
   ],
   "source": [
    "print(pop_nc_file.variables['longitude'].shape)\n",
    "print(pop_nc_file.variables['latitude'].shape)\n",
    "print(type(pop_nc_file.variables[pop_d_var]))\n",
    "print(pop_nc_file.variables[pop_d_var].shape)\n",
    "print(pop_nc_file.variables[pop_d_var][0,:,:].shape)"
   ]
  },
  {
   "cell_type": "code",
   "execution_count": null,
   "metadata": {},
   "outputs": [],
   "source": [
    "data = np.array(pop_nc_file.variables['Population Density, v4.11 (2000, 2005, 2010, 2015, 2020): 15 arc-minutes'])\n",
    "print(data.shape)"
   ]
  },
  {
   "cell_type": "code",
   "execution_count": null,
   "metadata": {},
   "outputs": [],
   "source": [
    "pop_density_2000 = pop_nc_file.variables['Population Density, v4.11 (2000, 2005, 2010, 2015, 2020): 15 arc-minutes'][0,:,:]\n",
    "np_pop_density_2000 = np.log10(np.clip(np.asarray(pop_density_2000), 0, None)+1)\n",
    "print(max(np_pop_density_2000.flatten()))\n",
    "print(min(np_pop_density_2000.flatten()))\n",
    "print(np.mean(np_pop_density_2000.flatten()))"
   ]
  },
  {
   "cell_type": "code",
   "execution_count": null,
   "metadata": {},
   "outputs": [],
   "source": [
    "sns.heatmap(np_pop_density_2000, vmin=0, vmax=4.5)"
   ]
  },
  {
   "cell_type": "code",
   "execution_count": null,
   "metadata": {},
   "outputs": [],
   "source": []
  }
 ],
 "metadata": {
  "kernelspec": {
   "display_name": "Python 3",
   "language": "python",
   "name": "python3"
  },
  "language_info": {
   "codemirror_mode": {
    "name": "ipython",
    "version": 3
   },
   "file_extension": ".py",
   "mimetype": "text/x-python",
   "name": "python",
   "nbconvert_exporter": "python",
   "pygments_lexer": "ipython3",
   "version": "3.11.4"
  }
 },
 "nbformat": 4,
 "nbformat_minor": 2
}
